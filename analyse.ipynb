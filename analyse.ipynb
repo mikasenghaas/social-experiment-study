{
 "cells": [
  {
   "cell_type": "markdown",
   "id": "77658a64",
   "metadata": {},
   "source": [
    "# Analysing the Results of Social Influence Study\n",
    "\n",
    "This Jupyter notebook contains the analysis that underlies the final project report for the course _Reflection on Data Science_. Crucially, it analyses the contents of the file `final-results.csv`, which contains the Reddit posts that were tracked on a VM.\n",
    "\n",
    "The script continuously scraped 1000 new Reddit posts everyday and upvoted half of them.\n",
    "\n",
    "Experiment Start: 4th of April 2023\n",
    "(Current) Experiment End: 14th of April 2023"
   ]
  },
  {
   "cell_type": "code",
   "execution_count": null,
   "id": "444079a0",
   "metadata": {},
   "outputs": [],
   "source": [
    "import pandas as pd\n",
    "from matplotlib import pyplot as plt\n",
    "import seaborn as sns"
   ]
  },
  {
   "cell_type": "code",
   "execution_count": null,
   "id": "87959903",
   "metadata": {},
   "outputs": [],
   "source": [
    "data = pd.read_csv(\"final-results.csv\")"
   ]
  },
  {
   "cell_type": "code",
   "execution_count": null,
   "id": "5cd04ad2",
   "metadata": {},
   "outputs": [],
   "source": [
    "data.head()"
   ]
  }
 ],
 "metadata": {
  "kernelspec": {
   "display_name": "Python 3 (ipykernel)",
   "language": "python",
   "name": "python3"
  },
  "language_info": {
   "codemirror_mode": {
    "name": "ipython",
    "version": 3
   },
   "file_extension": ".py",
   "mimetype": "text/x-python",
   "name": "python",
   "nbconvert_exporter": "python",
   "pygments_lexer": "ipython3",
   "version": "3.11.2"
  }
 },
 "nbformat": 4,
 "nbformat_minor": 5
}
